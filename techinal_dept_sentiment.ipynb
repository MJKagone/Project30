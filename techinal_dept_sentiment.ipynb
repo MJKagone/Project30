{
 "cells": [
  {
   "cell_type": "markdown",
   "metadata": {},
   "source": [
    "# Project 30: Sentiment of Technical Debt Dataset"
   ]
  },
  {
   "cell_type": "code",
   "execution_count": 40,
   "metadata": {},
   "outputs": [],
   "source": [
    "import pandas as pd\n",
    "import numpy as np\n",
    "import nltk\n",
    "import matplotlib.pyplot as plt"
   ]
  },
  {
   "cell_type": "markdown",
   "metadata": {},
   "source": [
    "*1. We want to comprehend each categories in terms of wording they do contain. For this purpose, group\n",
    "comments pertaining to the same category in the same document, perform appropriate filtering and\n",
    "lemmatization, then plot WordCloud representation of the associated file. Draw a histogram of the\n",
    "twenty frequent words in each category.*"
   ]
  },
  {
   "cell_type": "code",
   "execution_count": 41,
   "metadata": {},
   "outputs": [
    {
     "name": "stdout",
     "output_type": "stream",
     "text": [
      "Defects:  ['FIXME formatters are not thread-safe', 'XXX: (Jon Skeet) The comment \"if it hasn\\'t been done already\" may not be strictly true. wrapper.maybeConfigure() won\\'t configure the same attributes/text more than once, but it may well add the children again, unless I\\'ve missed something.', \"I hate to admit it, but we don't know what happened here. Throw the Exception.\", \"Just a note: StarTeam has a status for NEW which implies that there is an item on your local machine that is not in the repository. These are the items that show up as NOT IN VIEW in the Starteam GUI. One would think that we would want to perhaps checkin the NEW items (not in all cases! - Steve Cohen 15 Dec 2001) Unfortunately, the sdk doesn't really work, and we can't actually see anything with a status of NEW. That is why we can just check out everything here without worrying about losing anything.\", 'the generated classes must not be added in the generic JAR! is that buggy on old JOnAS (2.4) ??']\n",
      "Design:  [\"XXX I really don't like this - the XML processor is still too 'involved' in the processing. A better solution (IMO) would be to create UE for Project and Target too, and then process the tree and have Project/Target deal with its attributes ( similar with Description ). If we eventually switch to ( or add support for ) DOM, things will work smoothly - UE can be avoided almost completely ( it could still be created on demand, for backward compatibility )\", 'JUnit 4 wraps solo tests this way. We can extract the original test name with a little hack.', 'XXX ignore attributes in a different NS ( maybe store them ? )', 'borrowed from TokenFilterTest', 'XXX Move to Project ( so it is shared by all helpers )']\n",
      "Test:  [\"@todo this is duplicating TestResult information. Only the time is not part of the result. So we'd better derive a new class from TestResult and deal with it. (SB)\", 'not sure whether this test is needed but cost nothing to put. hope it will be reviewed by anybody competent', 'TestCases for {@link XSLTProcess} task. XXX merge with {@link XsltTest}? @version 2003-08-05', 'doesn\\'t work: Depending on the compression engine used, compressed bytes may differ. False errors would be reported. assertTrue(\"File content mismatch\", FILE_UTILS.contentEquals(project.resolveFile(\"expected/asf-logo-huge.tar.bz2\"), project.resolveFile(\"asf-logo-huge.tar.bz2\")));', \"this is the wrong test if the remote OS is OpenVMS, but there doesn't seem to be a way to detect it.\"]\n",
      "Documentation:  ['TODO Document the reason for this', \"TODO Can't see anything in SPEC\", \"TODO Can't see anything in SPEC\", 'TODO: - please add some javadoc - ugly classname also', 'UML 1.4 spec is ambiguous - English says no Association or Generalization, but OCL only includes Association || Model.getFacade().isAGeneralization(dm)']\n",
      "Implementation:  ['TO DO : delete the file if it is not a valid file.', \"TODO: comment field doesn't include all options yet\", 'TO DO : delete the file if it is not a valid file.', \"This method checks the timestamp on each file listed in the <code> ejbFiles</code> and compares them to the timestamp on the <code>jarFile </code>. If the <code>jarFile</code>'s timestamp is more recent than each EJB file, <code>true</code> is returned. Otherwise, <code>false </code> is returned. TODO: find a way to check the manifest-file, that is found by naming convention @param ejbFiles Hashtable of EJB classes (and other) files that will be added to the completed JAR file @param jarFile JAR file which will contain all of the EJB classes (and other) files @return boolean indicating whether or not the <code>jarFile</code> is up to date\", 'Have to think about lazy initialization here... JHM comparator = new java.text.RuleBasedCollator();']\n",
      "Other:  ['test a process that runs and failed', 'ignore', 'process should abort', 'user:password@host:/path notation', '@param event the build event that is being logged.']\n"
     ]
    }
   ],
   "source": [
    "# Read data and create lists of comments for each class\n",
    "df = pd.read_csv(\"technical_debt_dataset/technical_debt_dataset.csv\")\n",
    "\n",
    "defect_df = df[df[\"classification\"]==\"DEFECT\"]\n",
    "defect_list = df[df[\"classification\"]==\"DEFECT\"][\"commenttext\"].values.tolist()\n",
    "design_list = df[df[\"classification\"]==\"DESIGN\"][\"commenttext\"].values.tolist()\n",
    "test_list = df[df[\"classification\"]==\"TEST\"][\"commenttext\"].values.tolist()\n",
    "documentation_list = df[df[\"classification\"]==\"DOCUMENTATION\"][\"commenttext\"].values.tolist()\n",
    "implementation_list = df[df[\"classification\"]==\"IMPLEMENTATION\"][\"commenttext\"].values.tolist()\n",
    "other_list = df[df[\"classification\"]==\"WITHOUT_CLASSIFICATION\"][\"commenttext\"].values.tolist()\n",
    "\n",
    "# Preprocessing\n",
    "\n",
    "# Remove comment tags\n",
    "for list in [defect_list, design_list, test_list, documentation_list, implementation_list, other_list]:\n",
    "    for i in range(len(list)):\n",
    "        list[i] = \" \".join(list[i].replace(\"//\", \"\").replace(\"/*\", \"\").replace(\"*/\", \"\").replace(\"*\", \"\").strip().split())\n",
    "\n",
    "print(\"Defects: \", defect_list[:5])\n",
    "print(\"Design: \", design_list[:5])\n",
    "print(\"Test: \", test_list[:5])\n",
    "print(\"Documentation: \", documentation_list[:5])\n",
    "print(\"Implementation: \", implementation_list[:5])\n",
    "print(\"Other: \", other_list[:5])"
   ]
  }
 ],
 "metadata": {
  "kernelspec": {
   "display_name": "Python 3",
   "language": "python",
   "name": "python3"
  },
  "language_info": {
   "codemirror_mode": {
    "name": "ipython",
    "version": 3
   },
   "file_extension": ".py",
   "mimetype": "text/x-python",
   "name": "python",
   "nbconvert_exporter": "python",
   "pygments_lexer": "ipython3",
   "version": "3.12.1"
  }
 },
 "nbformat": 4,
 "nbformat_minor": 2
}
